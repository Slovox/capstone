{
 "cells": [
  {
   "cell_type": "code",
   "execution_count": 2,
   "id": "44cf6767",
   "metadata": {},
   "outputs": [],
   "source": [
    "import tensorflow as tf\n",
    "from tensorflow.keras import layers, models\n",
    "import matplotlib.pyplot as plt\n",
    "import scipy"
   ]
  },
  {
   "cell_type": "code",
   "execution_count": 3,
   "id": "27010e0f",
   "metadata": {},
   "outputs": [],
   "source": [
    "IMAGE_SIZE = 256"
   ]
  },
  {
   "cell_type": "code",
   "execution_count": 4,
   "id": "693a5999",
   "metadata": {},
   "outputs": [
    {
     "name": "stdout",
     "output_type": "stream",
     "text": [
      "Found 3251 images belonging to 3 classes.\n",
      "Found 416 images belonging to 3 classes.\n"
     ]
    }
   ],
   "source": [
    "from tensorflow.keras.preprocessing.image import ImageDataGenerator\n",
    "\n",
    "train_datagen = ImageDataGenerator(rescale = 1/255)\n",
    "validation_datagen = ImageDataGenerator(rescale = 1/255)\n",
    "\n",
    "train_generator = train_datagen.flow_from_directory(\n",
    "    'Training',\n",
    "    shuffle = True,\n",
    "    target_size = (IMAGE_SIZE, IMAGE_SIZE),\n",
    "    batch_size = 128,\n",
    "    class_mode = 'categorical'\n",
    ")\n",
    "\n",
    "validation_generator = validation_datagen.flow_from_directory(\n",
    "    'Validation',\n",
    "    shuffle = True,\n",
    "    target_size = (IMAGE_SIZE, IMAGE_SIZE),\n",
    "    batch_size = 32,\n",
    "    class_mode = 'categorical'\n",
    ")\n",
    "\n",
    "# dataset = tf.keras.preprocessing.image_dataset_from_directory(\n",
    "    \n",
    "\n",
    "# )"
   ]
  },
  {
   "cell_type": "code",
   "execution_count": 5,
   "id": "d5da9f3e",
   "metadata": {},
   "outputs": [
    {
     "data": {
      "text/plain": [
       "{'Early_Blight': 0, 'Healthy': 1, 'Late_Blight': 2}"
      ]
     },
     "execution_count": 5,
     "metadata": {},
     "output_type": "execute_result"
    }
   ],
   "source": [
    "classes = train_generator.class_indices\n",
    "classes"
   ]
  },
  {
   "cell_type": "code",
   "execution_count": 6,
   "id": "d792dce9",
   "metadata": {},
   "outputs": [
    {
     "data": {
      "text/plain": [
       "{'Early_Blight': 0, 'Healthy': 1, 'Late_Blight': 2}"
      ]
     },
     "execution_count": 6,
     "metadata": {},
     "output_type": "execute_result"
    }
   ],
   "source": [
    "classes1 = validation_generator.class_indices\n",
    "classes1"
   ]
  },
  {
   "cell_type": "code",
   "execution_count": 7,
   "id": "7cd7dd14",
   "metadata": {},
   "outputs": [
    {
     "data": {
      "text/plain": [
       "26"
      ]
     },
     "execution_count": 7,
     "metadata": {},
     "output_type": "execute_result"
    }
   ],
   "source": [
    "len(train_generator)"
   ]
  },
  {
   "cell_type": "code",
   "execution_count": 8,
   "id": "a9288050",
   "metadata": {},
   "outputs": [
    {
     "data": {
      "text/plain": [
       "13"
      ]
     },
     "execution_count": 8,
     "metadata": {},
     "output_type": "execute_result"
    }
   ],
   "source": [
    "len(validation_generator)"
   ]
  },
  {
   "cell_type": "code",
   "execution_count": 16,
   "id": "c1cd833c",
   "metadata": {},
   "outputs": [
    {
     "name": "stdout",
     "output_type": "stream",
     "text": [
      "(128, 256, 256, 3)\n",
      "(128, 3)\n"
     ]
    }
   ],
   "source": [
    "for image_batch, labels_batch in train_generator:\n",
    "    print(image_batch.shape)\n",
    "    print(labels_batch.shape)\n",
    "    break"
   ]
  },
  {
   "cell_type": "code",
   "execution_count": 30,
   "id": "16fd407b",
   "metadata": {},
   "outputs": [
    {
     "name": "stdout",
     "output_type": "stream",
     "text": [
      "(32, 256, 256, 3)\n",
      "(32, 3)\n"
     ]
    }
   ],
   "source": [
    "for image_batch, labels_batch in validation_generator:\n",
    "    print(image_batch.shape)\n",
    "    print(labels_batch.shape)\n",
    "    break"
   ]
  },
  {
   "cell_type": "code",
   "execution_count": 32,
   "id": "f9e5bb19",
   "metadata": {},
   "outputs": [],
   "source": [
    "#input_shape = (BATCH_SIZE,IMAGE_SIZE,IMAGE_SIZE,3)\n",
    "n_classes = 3\n",
    "\n",
    "model = tf.keras.models.Sequential([\n",
    "    # Note the input shape is the desired size of the image 300x300 with 3 bytes color\n",
    "    # This is the first convolution\n",
    "    tf.keras.layers.Conv2D(16, (3,3), activation='relu', input_shape=(256, 256, 3)),\n",
    "    tf.keras.layers.MaxPooling2D(2, 2),\n",
    "    # The second convolution\n",
    "    tf.keras.layers.Conv2D(32, (3,3), activation='relu'),\n",
    "    tf.keras.layers.MaxPooling2D(2,2),\n",
    "    # The third convolution\n",
    "    tf.keras.layers.Conv2D(64, (3,3), activation='relu'),\n",
    "    tf.keras.layers.MaxPooling2D(2,2),\n",
    "    # The fourth convolution\n",
    "    tf.keras.layers.Conv2D(64, (3,3), activation='relu'),\n",
    "    tf.keras.layers.MaxPooling2D(2,2),\n",
    "    # The fifth convolution\n",
    "    tf.keras.layers.Conv2D(64, (3,3), activation='relu'),\n",
    "    tf.keras.layers.MaxPooling2D(2,2),\n",
    "    # Flatten the results to feed into a DNN\n",
    "    tf.keras.layers.Flatten(),\n",
    "    # 512 neuron hidden layer\n",
    "    tf.keras.layers.Dense(256, activation='relu'),\n",
    "    # 3 output neuron. \n",
    "    tf.keras.layers.Dense(n_classes, activation='softmax')\n",
    "])"
   ]
  },
  {
   "cell_type": "code",
   "execution_count": 33,
   "id": "9628ed43",
   "metadata": {},
   "outputs": [
    {
     "name": "stdout",
     "output_type": "stream",
     "text": [
      "Model: \"sequential_6\"\n",
      "_________________________________________________________________\n",
      " Layer (type)                Output Shape              Param #   \n",
      "=================================================================\n",
      " conv2d_30 (Conv2D)          (None, 254, 254, 16)      448       \n",
      "                                                                 \n",
      " max_pooling2d_30 (MaxPoolin  (None, 127, 127, 16)     0         \n",
      " g2D)                                                            \n",
      "                                                                 \n",
      " conv2d_31 (Conv2D)          (None, 125, 125, 32)      4640      \n",
      "                                                                 \n",
      " max_pooling2d_31 (MaxPoolin  (None, 62, 62, 32)       0         \n",
      " g2D)                                                            \n",
      "                                                                 \n",
      " conv2d_32 (Conv2D)          (None, 60, 60, 64)        18496     \n",
      "                                                                 \n",
      " max_pooling2d_32 (MaxPoolin  (None, 30, 30, 64)       0         \n",
      " g2D)                                                            \n",
      "                                                                 \n",
      " conv2d_33 (Conv2D)          (None, 28, 28, 64)        36928     \n",
      "                                                                 \n",
      " max_pooling2d_33 (MaxPoolin  (None, 14, 14, 64)       0         \n",
      " g2D)                                                            \n",
      "                                                                 \n",
      " conv2d_34 (Conv2D)          (None, 12, 12, 64)        36928     \n",
      "                                                                 \n",
      " max_pooling2d_34 (MaxPoolin  (None, 6, 6, 64)         0         \n",
      " g2D)                                                            \n",
      "                                                                 \n",
      " flatten_6 (Flatten)         (None, 2304)              0         \n",
      "                                                                 \n",
      " dense_12 (Dense)            (None, 256)               590080    \n",
      "                                                                 \n",
      " dense_13 (Dense)            (None, 3)                 771       \n",
      "                                                                 \n",
      "=================================================================\n",
      "Total params: 688,291\n",
      "Trainable params: 688,291\n",
      "Non-trainable params: 0\n",
      "_________________________________________________________________\n"
     ]
    }
   ],
   "source": [
    "model.summary()"
   ]
  },
  {
   "cell_type": "code",
   "execution_count": 38,
   "id": "fa1fa592",
   "metadata": {},
   "outputs": [],
   "source": [
    "model.compile(loss = 'categorical_crossentropy',\n",
    "              optimizer = 'rmsprop',\n",
    "              metrics = ['accuracy'])"
   ]
  },
  {
   "cell_type": "code",
   "execution_count": 39,
   "id": "7f12d0c6",
   "metadata": {},
   "outputs": [
    {
     "name": "stdout",
     "output_type": "stream",
     "text": [
      "Epoch 1/15\n",
      "8/8 [==============================] - 16s 2s/step - loss: 1.1985 - accuracy: 0.3643 - val_loss: 1.0774 - val_accuracy: 0.3633\n",
      "Epoch 2/15\n",
      "8/8 [==============================] - 14s 2s/step - loss: 1.0546 - accuracy: 0.4336 - val_loss: 1.0722 - val_accuracy: 0.4141\n",
      "Epoch 3/15\n",
      "8/8 [==============================] - 15s 2s/step - loss: 1.0351 - accuracy: 0.4424 - val_loss: 1.0977 - val_accuracy: 0.4336\n",
      "Epoch 4/15\n",
      "8/8 [==============================] - 14s 2s/step - loss: 1.0505 - accuracy: 0.4502 - val_loss: 1.0420 - val_accuracy: 0.3906\n",
      "Epoch 5/15\n",
      "8/8 [==============================] - 14s 2s/step - loss: 0.9928 - accuracy: 0.4941 - val_loss: 0.9993 - val_accuracy: 0.5078\n",
      "Epoch 6/15\n",
      "8/8 [==============================] - 14s 2s/step - loss: 0.9732 - accuracy: 0.5938 - val_loss: 0.8696 - val_accuracy: 0.6719\n",
      "Epoch 7/15\n",
      "8/8 [==============================] - 15s 2s/step - loss: 0.8659 - accuracy: 0.6357 - val_loss: 1.2663 - val_accuracy: 0.4844\n",
      "Epoch 8/15\n",
      "8/8 [==============================] - 17s 2s/step - loss: 0.8798 - accuracy: 0.6504 - val_loss: 0.8145 - val_accuracy: 0.6328\n",
      "Epoch 9/15\n",
      "8/8 [==============================] - 15s 2s/step - loss: 0.9475 - accuracy: 0.6143 - val_loss: 0.8146 - val_accuracy: 0.5938\n",
      "Epoch 10/15\n",
      "8/8 [==============================] - 15s 2s/step - loss: 0.7367 - accuracy: 0.7051 - val_loss: 0.5888 - val_accuracy: 0.7773\n",
      "Epoch 11/15\n",
      "8/8 [==============================] - 15s 2s/step - loss: 0.7488 - accuracy: 0.6875 - val_loss: 0.6865 - val_accuracy: 0.6992\n",
      "Epoch 12/15\n",
      "8/8 [==============================] - 15s 2s/step - loss: 0.6587 - accuracy: 0.7256 - val_loss: 0.7429 - val_accuracy: 0.6250\n",
      "Epoch 13/15\n",
      "8/8 [==============================] - 16s 2s/step - loss: 0.6741 - accuracy: 0.7295 - val_loss: 0.5648 - val_accuracy: 0.7891\n",
      "Epoch 14/15\n",
      "8/8 [==============================] - 16s 2s/step - loss: 0.6872 - accuracy: 0.7236 - val_loss: 0.6612 - val_accuracy: 0.6914\n",
      "Epoch 15/15\n",
      "8/8 [==============================] - 15s 2s/step - loss: 0.5958 - accuracy: 0.7686 - val_loss: 0.5347 - val_accuracy: 0.7812\n"
     ]
    }
   ],
   "source": [
    "history = model.fit(\n",
    "      train_generator,\n",
    "      steps_per_epoch=8,  \n",
    "      epochs=15,\n",
    "      verbose=1,\n",
    "      validation_data = validation_generator,\n",
    "      validation_steps=8)"
   ]
  },
  {
   "cell_type": "code",
   "execution_count": null,
   "id": "c0a16d03",
   "metadata": {},
   "outputs": [],
   "source": []
  }
 ],
 "metadata": {
  "kernelspec": {
   "display_name": "Python 3 (ipykernel)",
   "language": "python",
   "name": "python3"
  },
  "language_info": {
   "codemirror_mode": {
    "name": "ipython",
    "version": 3
   },
   "file_extension": ".py",
   "mimetype": "text/x-python",
   "name": "python",
   "nbconvert_exporter": "python",
   "pygments_lexer": "ipython3",
   "version": "3.10.3"
  }
 },
 "nbformat": 4,
 "nbformat_minor": 5
}
